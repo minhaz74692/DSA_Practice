{
 "cells": [
  {
   "cell_type": "code",
   "execution_count": 29,
   "metadata": {},
   "outputs": [
    {
     "name": "stdout",
     "output_type": "stream",
     "text": [
      "hello\n"
     ]
    }
   ],
   "source": [
    "print('hello')"
   ]
  },
  {
   "cell_type": "code",
   "execution_count": 30,
   "metadata": {},
   "outputs": [],
   "source": [
    "class Animal:\n",
    "    def __init__(self, animalName, sound):\n",
    "        self.animalName = animalName\n",
    "        self.sound = sound\n",
    "        print(\"created an animal named\", animalName, \"which sound like:\", sound)\n",
    "\n",
    "    def describe(self):\n",
    "        print(\"The {} is sounds like {}\".format(self.animalName, self.sound))\n",
    "\n",
    "    def __repr__(self):\n",
    "        return \"Animal(animalName='{}', sound='{}')\".format(self.animalName, self.sound)\n",
    "    \n",
    "    def __str__(self):\n",
    "        return self.__repr__()\n",
    "    "
   ]
  },
  {
   "cell_type": "code",
   "execution_count": 31,
   "metadata": {},
   "outputs": [
    {
     "name": "stdout",
     "output_type": "stream",
     "text": [
      "created an animal named dog which sound like: bok bok\n"
     ]
    }
   ],
   "source": [
    "dog = Animal(\"dog\", \"bok bok\")"
   ]
  },
  {
   "cell_type": "code",
   "execution_count": 32,
   "metadata": {},
   "outputs": [
    {
     "name": "stdout",
     "output_type": "stream",
     "text": [
      "created an animal named Cat which sound like: meaow meaow\n"
     ]
    }
   ],
   "source": [
    "cat = Animal(\"Cat\", \"meaow meaow\")"
   ]
  },
  {
   "cell_type": "code",
   "execution_count": 33,
   "metadata": {},
   "outputs": [
    {
     "name": "stdout",
     "output_type": "stream",
     "text": [
      "The Cat is sounds like meaow meaow\n"
     ]
    }
   ],
   "source": [
    "cat.describe()"
   ]
  },
  {
   "cell_type": "code",
   "execution_count": 34,
   "metadata": {},
   "outputs": [
    {
     "name": "stdout",
     "output_type": "stream",
     "text": [
      "The dog is sounds like bok bok\n"
     ]
    }
   ],
   "source": [
    "dog.describe()"
   ]
  },
  {
   "cell_type": "code",
   "execution_count": 35,
   "metadata": {},
   "outputs": [
    {
     "data": {
      "text/plain": [
       "Animal(animalName='Cat', sound='meaow meaow')"
      ]
     },
     "execution_count": 35,
     "metadata": {},
     "output_type": "execute_result"
    }
   ],
   "source": [
    "cat"
   ]
  },
  {
   "cell_type": "code",
   "execution_count": 36,
   "metadata": {},
   "outputs": [
    {
     "data": {
      "text/plain": [
       "Animal(animalName='dog', sound='bok bok')"
      ]
     },
     "execution_count": 36,
     "metadata": {},
     "output_type": "execute_result"
    }
   ],
   "source": [
    "dog"
   ]
  },
  {
   "cell_type": "markdown",
   "metadata": {},
   "source": [
    "# Practice CRUD Operation In Python by OOP"
   ]
  },
  {
   "cell_type": "code",
   "execution_count": 37,
   "metadata": {},
   "outputs": [],
   "source": [
    "class AnimalDataBase:\n",
    "    def __init__(self):\n",
    "        self.animals=  []\n",
    "    \n",
    "    def insert(self, newAnimal):\n",
    "        i = 0\n",
    "        while i < len(self.animals):\n",
    "            if self.animals[i].animalName > newAnimal.animalName:\n",
    "                break\n",
    "            i += 1\n",
    "\n",
    "        self.animals.insert(i , newAnimal)\n",
    "        print(\"inserted\")\n",
    "    \n",
    "    def find(self, animalName):\n",
    "        for animal in self.animals:\n",
    "            if animal.animalName == animalName:\n",
    "                print(\"found\")\n",
    "                return animal\n",
    "                break\n",
    "\n",
    "    def update(self, animal, newSound):\n",
    "        target = self.find(animal.animalName)\n",
    "        print(target)\n",
    "        if target.animalName == animal.animalName:\n",
    "             target.sound =  newSound\n",
    "        \n",
    "        self.listAll()\n",
    "\n",
    "\n",
    "\n",
    "    def listAll(self):\n",
    "        return self.animals\n",
    "    \n",
    "    def deleteAnimal(self , animalName):\n",
    "        animal = self.find(animalName)\n",
    "        if animal:\n",
    "            self.animals.remove(animal)\n",
    "            print(\"deleted\")\n",
    "        else:\n",
    "            print(\"No animal found with name\", animalName, \"for delete\")\n",
    "    \n"
   ]
  },
  {
   "cell_type": "code",
   "execution_count": 38,
   "metadata": {},
   "outputs": [],
   "source": [
    "animalDatabase = AnimalDataBase()"
   ]
  },
  {
   "cell_type": "code",
   "execution_count": 39,
   "metadata": {},
   "outputs": [
    {
     "name": "stdout",
     "output_type": "stream",
     "text": [
      "inserted\n"
     ]
    }
   ],
   "source": [
    "animalDatabase.insert(dog)"
   ]
  },
  {
   "cell_type": "code",
   "execution_count": 40,
   "metadata": {},
   "outputs": [
    {
     "name": "stdout",
     "output_type": "stream",
     "text": [
      "inserted\n"
     ]
    }
   ],
   "source": [
    "animalDatabase.insert(cat)"
   ]
  },
  {
   "cell_type": "code",
   "execution_count": 41,
   "metadata": {},
   "outputs": [
    {
     "name": "stdout",
     "output_type": "stream",
     "text": [
      "found\n"
     ]
    },
    {
     "data": {
      "text/plain": [
       "Animal(animalName='dog', sound='bok bok')"
      ]
     },
     "execution_count": 41,
     "metadata": {},
     "output_type": "execute_result"
    }
   ],
   "source": [
    "animalDatabase.find(\"dog\")"
   ]
  },
  {
   "cell_type": "code",
   "execution_count": 42,
   "metadata": {},
   "outputs": [
    {
     "data": {
      "text/plain": [
       "[Animal(animalName='Cat', sound='meaow meaow'),\n",
       " Animal(animalName='dog', sound='bok bok')]"
      ]
     },
     "execution_count": 42,
     "metadata": {},
     "output_type": "execute_result"
    }
   ],
   "source": [
    "animalDatabase.listAll()"
   ]
  },
  {
   "cell_type": "code",
   "execution_count": 43,
   "metadata": {},
   "outputs": [
    {
     "name": "stdout",
     "output_type": "stream",
     "text": [
      "created an animal named Snake which sound like: ssssh ssssh\n"
     ]
    }
   ],
   "source": [
    "snake = Animal(animalName=\"Snake\" , sound= \"ssssh ssssh\")"
   ]
  },
  {
   "cell_type": "code",
   "execution_count": 44,
   "metadata": {},
   "outputs": [
    {
     "name": "stdout",
     "output_type": "stream",
     "text": [
      "inserted\n"
     ]
    }
   ],
   "source": [
    "animalDatabase.insert(snake)"
   ]
  },
  {
   "cell_type": "code",
   "execution_count": 45,
   "metadata": {},
   "outputs": [
    {
     "data": {
      "text/plain": [
       "[Animal(animalName='Cat', sound='meaow meaow'),\n",
       " Animal(animalName='Snake', sound='ssssh ssssh'),\n",
       " Animal(animalName='dog', sound='bok bok')]"
      ]
     },
     "execution_count": 45,
     "metadata": {},
     "output_type": "execute_result"
    }
   ],
   "source": [
    "animalDatabase.listAll()"
   ]
  },
  {
   "cell_type": "code",
   "execution_count": 46,
   "metadata": {},
   "outputs": [
    {
     "name": "stdout",
     "output_type": "stream",
     "text": [
      "found\n",
      "deleted\n"
     ]
    }
   ],
   "source": [
    "animalDatabase.deleteAnimal(\"Snake\")"
   ]
  },
  {
   "cell_type": "code",
   "execution_count": 47,
   "metadata": {},
   "outputs": [
    {
     "data": {
      "text/plain": [
       "[Animal(animalName='Cat', sound='meaow meaow'),\n",
       " Animal(animalName='dog', sound='bok bok')]"
      ]
     },
     "execution_count": 47,
     "metadata": {},
     "output_type": "execute_result"
    }
   ],
   "source": [
    "animalDatabase.listAll()"
   ]
  },
  {
   "cell_type": "code",
   "execution_count": 48,
   "metadata": {},
   "outputs": [
    {
     "name": "stdout",
     "output_type": "stream",
     "text": [
      "No animal found with name Snake for delete\n"
     ]
    }
   ],
   "source": [
    "\n",
    "animalDatabase.deleteAnimal(\"Snake\")"
   ]
  },
  {
   "cell_type": "code",
   "execution_count": 49,
   "metadata": {},
   "outputs": [
    {
     "name": "stdout",
     "output_type": "stream",
     "text": [
      "created an animal named cow which sound like: hamba hamba\n"
     ]
    }
   ],
   "source": [
    "cow = Animal(animalName= \"cow\", sound=\"hamba hamba\")"
   ]
  },
  {
   "cell_type": "code",
   "execution_count": 50,
   "metadata": {},
   "outputs": [
    {
     "name": "stdout",
     "output_type": "stream",
     "text": [
      "inserted\n"
     ]
    },
    {
     "data": {
      "text/plain": [
       "[Animal(animalName='Cat', sound='meaow meaow'),\n",
       " Animal(animalName='cow', sound='hamba hamba'),\n",
       " Animal(animalName='dog', sound='bok bok')]"
      ]
     },
     "execution_count": 50,
     "metadata": {},
     "output_type": "execute_result"
    }
   ],
   "source": [
    "animalDatabase.insert(cow)\n",
    "animalDatabase.listAll()"
   ]
  },
  {
   "cell_type": "code",
   "execution_count": 51,
   "metadata": {},
   "outputs": [
    {
     "name": "stdout",
     "output_type": "stream",
     "text": [
      "found\n",
      "Animal(animalName='cow', sound='hamba hamba')\n"
     ]
    }
   ],
   "source": [
    "animalDatabase.update(cow, \"hamba hamba changed\")"
   ]
  },
  {
   "cell_type": "code",
   "execution_count": 52,
   "metadata": {},
   "outputs": [
    {
     "data": {
      "text/plain": [
       "[Animal(animalName='Cat', sound='meaow meaow'),\n",
       " Animal(animalName='cow', sound='hamba hamba changed'),\n",
       " Animal(animalName='dog', sound='bok bok')]"
      ]
     },
     "execution_count": 52,
     "metadata": {},
     "output_type": "execute_result"
    }
   ],
   "source": [
    "animalDatabase.listAll()"
   ]
  },
  {
   "cell_type": "code",
   "execution_count": 53,
   "metadata": {},
   "outputs": [
    {
     "data": {
      "text/plain": [
       "True"
      ]
     },
     "execution_count": 53,
     "metadata": {},
     "output_type": "execute_result"
    }
   ],
   "source": [
    "\"dog\" > \"cowmmm\""
   ]
  },
  {
   "cell_type": "code",
   "execution_count": 54,
   "metadata": {},
   "outputs": [
    {
     "data": {
      "text/plain": [
       "False"
      ]
     },
     "execution_count": 54,
     "metadata": {},
     "output_type": "execute_result"
    }
   ],
   "source": [
    "\"cow\" < \"Cat\""
   ]
  },
  {
   "cell_type": "code",
   "execution_count": 65,
   "metadata": {},
   "outputs": [
    {
     "name": "stdout",
     "output_type": "stream",
     "text": [
      "999999\n",
      "CPU times: user 252 ms, sys: 19.8 ms, total: 271 ms\n",
      "Wall time: 421 ms\n"
     ]
    }
   ],
   "source": [
    "%%time\n",
    "j = 0\n",
    "for i in range(1000000):\n",
    "    j = i \n",
    "print(j)"
   ]
  },
  {
   "cell_type": "code",
   "execution_count": null,
   "metadata": {},
   "outputs": [],
   "source": []
  },
  {
   "cell_type": "code",
   "execution_count": null,
   "metadata": {},
   "outputs": [],
   "source": []
  }
 ],
 "metadata": {
  "kernelspec": {
   "display_name": "base",
   "language": "python",
   "name": "python3"
  },
  "language_info": {
   "codemirror_mode": {
    "name": "ipython",
    "version": 3
   },
   "file_extension": ".py",
   "mimetype": "text/x-python",
   "name": "python",
   "nbconvert_exporter": "python",
   "pygments_lexer": "ipython3",
   "version": "3.11.5"
  }
 },
 "nbformat": 4,
 "nbformat_minor": 2
}
