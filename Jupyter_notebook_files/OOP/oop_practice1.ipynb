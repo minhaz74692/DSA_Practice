{
 "cells": [
  {
   "cell_type": "code",
   "execution_count": 618,
   "metadata": {},
   "outputs": [
    {
     "name": "stdout",
     "output_type": "stream",
     "text": [
      "hello\n"
     ]
    }
   ],
   "source": [
    "print('hello')"
   ]
  },
  {
   "cell_type": "code",
   "execution_count": 619,
   "metadata": {},
   "outputs": [],
   "source": [
    "class Animal:\n",
    "    def __init__(self, animalName, sound):\n",
    "        self.animalName = animalName\n",
    "        self.sound = sound\n",
    "        print(\"created an animal named\", animalName, \"which sound like:\", sound)\n",
    "\n",
    "    def describe(self):\n",
    "        print(\"The {} is sounds like {}\".format(self.animalName, self.sound))\n",
    "\n",
    "    def __repr__(self):\n",
    "        return \"Animal(animalName='{}', sound='{}')\".format(self.animalName, self.sound)\n",
    "    \n",
    "    def __str__(self):\n",
    "        return self.__repr__()\n",
    "    "
   ]
  },
  {
   "cell_type": "code",
   "execution_count": 620,
   "metadata": {},
   "outputs": [
    {
     "name": "stdout",
     "output_type": "stream",
     "text": [
      "created an animal named dog which sound like: bok bok\n"
     ]
    }
   ],
   "source": [
    "dog = Animal(\"dog\", \"bok bok\")"
   ]
  },
  {
   "cell_type": "code",
   "execution_count": 621,
   "metadata": {},
   "outputs": [
    {
     "name": "stdout",
     "output_type": "stream",
     "text": [
      "created an animal named Cat which sound like: meaow meaow\n"
     ]
    }
   ],
   "source": [
    "cat = Animal(\"Cat\", \"meaow meaow\")"
   ]
  },
  {
   "cell_type": "code",
   "execution_count": 622,
   "metadata": {},
   "outputs": [
    {
     "name": "stdout",
     "output_type": "stream",
     "text": [
      "The Cat is sounds like meaow meaow\n"
     ]
    }
   ],
   "source": [
    "cat.describe()"
   ]
  },
  {
   "cell_type": "code",
   "execution_count": 623,
   "metadata": {},
   "outputs": [
    {
     "name": "stdout",
     "output_type": "stream",
     "text": [
      "The dog is sounds like bok bok\n"
     ]
    }
   ],
   "source": [
    "dog.describe()"
   ]
  },
  {
   "cell_type": "code",
   "execution_count": 624,
   "metadata": {},
   "outputs": [
    {
     "data": {
      "text/plain": [
       "Animal(animalName='Cat', sound='meaow meaow')"
      ]
     },
     "execution_count": 624,
     "metadata": {},
     "output_type": "execute_result"
    }
   ],
   "source": [
    "cat"
   ]
  },
  {
   "cell_type": "code",
   "execution_count": 625,
   "metadata": {},
   "outputs": [
    {
     "data": {
      "text/plain": [
       "Animal(animalName='dog', sound='bok bok')"
      ]
     },
     "execution_count": 625,
     "metadata": {},
     "output_type": "execute_result"
    }
   ],
   "source": [
    "dog"
   ]
  },
  {
   "cell_type": "markdown",
   "metadata": {},
   "source": [
    "# Practice CRUD Operation In Python by OOP"
   ]
  },
  {
   "cell_type": "code",
   "execution_count": 626,
   "metadata": {},
   "outputs": [],
   "source": [
    "class AnimalDataBase:\n",
    "    def __init__(self):\n",
    "        self.animals=  []\n",
    "    \n",
    "    def insert(self, newAnimal):\n",
    "        i = 0\n",
    "        while i < len(self.animals):\n",
    "            if self.animals[i].animalName > newAnimal.animalName:\n",
    "                i += 1\n",
    "                break\n",
    "\n",
    "        self.animals.insert(i , newAnimal)\n",
    "        print(\"inserted\")\n",
    "    \n",
    "    def find(self, animalName):\n",
    "        for animal in self.animals:\n",
    "            if animal.animalName == animalName:\n",
    "                print(\"found\")\n",
    "                return animal\n",
    "                break\n",
    "\n",
    "    def update(self, animal, newSound):\n",
    "        target = self.find(animal.animalName)\n",
    "        print(target)\n",
    "        if target.animalName == animal.animalName:\n",
    "             target.sound =  newSound\n",
    "        \n",
    "        self.listAll()\n",
    "\n",
    "\n",
    "\n",
    "    def listAll(self):\n",
    "        return self.animals\n",
    "    \n",
    "    def deleteAnimal(self , animalName):\n",
    "        animal = self.find(animalName)\n",
    "        if animal:\n",
    "            self.animals.remove(animal)\n",
    "            print(\"deleted\")\n",
    "        else:\n",
    "            print(\"No animal found with name\", animalName, \"for delete\")\n",
    "    \n"
   ]
  },
  {
   "cell_type": "code",
   "execution_count": 627,
   "metadata": {},
   "outputs": [],
   "source": [
    "animalDatabase = AnimalDataBase()"
   ]
  },
  {
   "cell_type": "code",
   "execution_count": 628,
   "metadata": {},
   "outputs": [
    {
     "name": "stdout",
     "output_type": "stream",
     "text": [
      "inserted\n"
     ]
    }
   ],
   "source": [
    "animalDatabase.insert(dog)"
   ]
  },
  {
   "cell_type": "code",
   "execution_count": 629,
   "metadata": {},
   "outputs": [
    {
     "name": "stdout",
     "output_type": "stream",
     "text": [
      "inserted\n"
     ]
    }
   ],
   "source": [
    "animalDatabase.insert(cat)"
   ]
  },
  {
   "cell_type": "code",
   "execution_count": 630,
   "metadata": {},
   "outputs": [
    {
     "name": "stdout",
     "output_type": "stream",
     "text": [
      "found\n"
     ]
    },
    {
     "data": {
      "text/plain": [
       "Animal(animalName='dog', sound='bok bok')"
      ]
     },
     "execution_count": 630,
     "metadata": {},
     "output_type": "execute_result"
    }
   ],
   "source": [
    "animalDatabase.find(\"dog\")"
   ]
  },
  {
   "cell_type": "code",
   "execution_count": 631,
   "metadata": {},
   "outputs": [
    {
     "data": {
      "text/plain": [
       "[Animal(animalName='dog', sound='bok bok'),\n",
       " Animal(animalName='Cat', sound='meaow meaow')]"
      ]
     },
     "execution_count": 631,
     "metadata": {},
     "output_type": "execute_result"
    }
   ],
   "source": [
    "animalDatabase.listAll()"
   ]
  },
  {
   "cell_type": "code",
   "execution_count": 632,
   "metadata": {},
   "outputs": [
    {
     "name": "stdout",
     "output_type": "stream",
     "text": [
      "created an animal named Snake which sound like: ssssh ssssh\n"
     ]
    }
   ],
   "source": [
    "snake = Animal(animalName=\"Snake\" , sound= \"ssssh ssssh\")"
   ]
  },
  {
   "cell_type": "code",
   "execution_count": 633,
   "metadata": {},
   "outputs": [
    {
     "name": "stdout",
     "output_type": "stream",
     "text": [
      "inserted\n"
     ]
    }
   ],
   "source": [
    "animalDatabase.insert(snake)"
   ]
  },
  {
   "cell_type": "code",
   "execution_count": 634,
   "metadata": {},
   "outputs": [
    {
     "data": {
      "text/plain": [
       "[Animal(animalName='dog', sound='bok bok'),\n",
       " Animal(animalName='Snake', sound='ssssh ssssh'),\n",
       " Animal(animalName='Cat', sound='meaow meaow')]"
      ]
     },
     "execution_count": 634,
     "metadata": {},
     "output_type": "execute_result"
    }
   ],
   "source": [
    "animalDatabase.listAll()"
   ]
  },
  {
   "cell_type": "code",
   "execution_count": 635,
   "metadata": {},
   "outputs": [
    {
     "name": "stdout",
     "output_type": "stream",
     "text": [
      "found\n",
      "deleted\n"
     ]
    }
   ],
   "source": [
    "animalDatabase.deleteAnimal(\"Snake\")"
   ]
  },
  {
   "cell_type": "code",
   "execution_count": 636,
   "metadata": {},
   "outputs": [
    {
     "data": {
      "text/plain": [
       "[Animal(animalName='dog', sound='bok bok'),\n",
       " Animal(animalName='Cat', sound='meaow meaow')]"
      ]
     },
     "execution_count": 636,
     "metadata": {},
     "output_type": "execute_result"
    }
   ],
   "source": [
    "animalDatabase.listAll()"
   ]
  },
  {
   "cell_type": "code",
   "execution_count": 637,
   "metadata": {},
   "outputs": [
    {
     "name": "stdout",
     "output_type": "stream",
     "text": [
      "No animal found with name Snake for delete\n"
     ]
    }
   ],
   "source": [
    "\n",
    "animalDatabase.deleteAnimal(\"Snake\")"
   ]
  },
  {
   "cell_type": "code",
   "execution_count": 638,
   "metadata": {},
   "outputs": [
    {
     "name": "stdout",
     "output_type": "stream",
     "text": [
      "created an animal named cow which sound like: hamba hamba\n"
     ]
    }
   ],
   "source": [
    "cow = Animal(animalName= \"cow\", sound=\"hamba hamba\")"
   ]
  },
  {
   "cell_type": "code",
   "execution_count": 639,
   "metadata": {},
   "outputs": [
    {
     "name": "stdout",
     "output_type": "stream",
     "text": [
      "inserted\n"
     ]
    },
    {
     "data": {
      "text/plain": [
       "[Animal(animalName='dog', sound='bok bok'),\n",
       " Animal(animalName='cow', sound='hamba hamba'),\n",
       " Animal(animalName='Cat', sound='meaow meaow')]"
      ]
     },
     "execution_count": 639,
     "metadata": {},
     "output_type": "execute_result"
    }
   ],
   "source": [
    "animalDatabase.insert(cow)\n",
    "animalDatabase.listAll()"
   ]
  },
  {
   "cell_type": "code",
   "execution_count": 640,
   "metadata": {},
   "outputs": [
    {
     "name": "stdout",
     "output_type": "stream",
     "text": [
      "found\n",
      "Animal(animalName='cow', sound='hamba hamba')\n"
     ]
    }
   ],
   "source": [
    "animalDatabase.update(cow, \"hamba hamba changed\")"
   ]
  },
  {
   "cell_type": "code",
   "execution_count": 641,
   "metadata": {},
   "outputs": [
    {
     "data": {
      "text/plain": [
       "[Animal(animalName='dog', sound='bok bok'),\n",
       " Animal(animalName='cow', sound='hamba hamba changed'),\n",
       " Animal(animalName='Cat', sound='meaow meaow')]"
      ]
     },
     "execution_count": 641,
     "metadata": {},
     "output_type": "execute_result"
    }
   ],
   "source": [
    "animalDatabase.listAll()"
   ]
  },
  {
   "cell_type": "code",
   "execution_count": null,
   "metadata": {},
   "outputs": [],
   "source": []
  }
 ],
 "metadata": {
  "kernelspec": {
   "display_name": "base",
   "language": "python",
   "name": "python3"
  },
  "language_info": {
   "codemirror_mode": {
    "name": "ipython",
    "version": 3
   },
   "file_extension": ".py",
   "mimetype": "text/x-python",
   "name": "python",
   "nbconvert_exporter": "python",
   "pygments_lexer": "ipython3",
   "version": "3.11.5"
  }
 },
 "nbformat": 4,
 "nbformat_minor": 2
}
