{
 "cells": [
  {
   "cell_type": "code",
   "execution_count": 23,
   "id": "8655d786",
   "metadata": {},
   "outputs": [],
   "source": [
    "def binaryRotatedListCount(list):\n",
    "    lo = 0\n",
    "    hi = len(list) - 1\n",
    "    mid = lo + hi // 2\n",
    "    mid_number = list[mid]\n",
    "    while lo < hi:\n",
    "        if mid_number <= list[lo]:\n",
    "            hi = mid -1\n",
    "        else: \n",
    "            lo = mid\n",
    "        return mid_number\n",
    "    \n",
    "    return 0"
   ]
  },
  {
   "cell_type": "code",
   "execution_count": null,
   "id": "b83c8342",
   "metadata": {},
   "outputs": [],
   "source": [
    "binaryRotatedListCount([ 10,12,14,15, 0, 2, 3, 4,5, 6, 7, 8, 9])"
   ]
  },
  {
   "cell_type": "code",
   "execution_count": null,
   "id": "286a23d0",
   "metadata": {},
   "outputs": [],
   "source": []
  }
 ],
 "metadata": {
  "kernelspec": {
   "display_name": "Python 3 (ipykernel)",
   "language": "python",
   "name": "python3"
  },
  "language_info": {
   "codemirror_mode": {
    "name": "ipython",
    "version": 3
   },
   "file_extension": ".py",
   "mimetype": "text/x-python",
   "name": "python",
   "nbconvert_exporter": "python",
   "pygments_lexer": "ipython3",
   "version": "3.11.5"
  }
 },
 "nbformat": 4,
 "nbformat_minor": 5
}
