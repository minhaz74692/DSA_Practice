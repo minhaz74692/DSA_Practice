{
 "cells": [
  {
   "cell_type": "code",
   "execution_count": 31,
   "id": "f9863c8c",
   "metadata": {},
   "outputs": [],
   "source": [
    "def searchInsert(nums, target):\n",
    "        \"\"\"\n",
    "        :type nums: List[int]\n",
    "        :type target: int\n",
    "        :rtype: int\n",
    "        \"\"\"\n",
    "       \n",
    "        lo = 0\n",
    "        hi = len(nums)-1\n",
    "        while lo <= hi:\n",
    "            mid = (lo+hi)//2\n",
    "            mid_number = nums[mid]\n",
    "            \n",
    "            prev_number = 0\n",
    "            prev_number = nums[mid-1] if mid != 0 else 0\n",
    "            if mid_number == target:\n",
    "                return mid\n",
    "            \n",
    "            elif prev_number < target and mid_number> target:\n",
    "                return mid\n",
    "            elif mid == lo and mid_number != target:\n",
    "                return 0\n",
    "            elif mid == hi and mid_number != target:\n",
    "                return hi + 1\n",
    "            elif mid_number > target:\n",
    "                hi = mid -1\n",
    "            elif mid_number< target:\n",
    "                lo = mid +1\n",
    "                \n",
    "\n",
    "        "
   ]
  },
  {
   "cell_type": "code",
   "execution_count": 33,
   "id": "f1eb0dbd",
   "metadata": {},
   "outputs": [
    {
     "data": {
      "text/plain": [
       "1"
      ]
     },
     "execution_count": 33,
     "metadata": {},
     "output_type": "execute_result"
    }
   ],
   "source": [
    "searchInsert([-1, 1,3], 0)"
   ]
  },
  {
   "cell_type": "code",
   "execution_count": null,
   "id": "c6fa5d78",
   "metadata": {},
   "outputs": [],
   "source": []
  }
 ],
 "metadata": {
  "kernelspec": {
   "display_name": "Python 3 (ipykernel)",
   "language": "python",
   "name": "python3"
  },
  "language_info": {
   "codemirror_mode": {
    "name": "ipython",
    "version": 3
   },
   "file_extension": ".py",
   "mimetype": "text/x-python",
   "name": "python",
   "nbconvert_exporter": "python",
   "pygments_lexer": "ipython3",
   "version": "3.11.5"
  }
 },
 "nbformat": 4,
 "nbformat_minor": 5
}
