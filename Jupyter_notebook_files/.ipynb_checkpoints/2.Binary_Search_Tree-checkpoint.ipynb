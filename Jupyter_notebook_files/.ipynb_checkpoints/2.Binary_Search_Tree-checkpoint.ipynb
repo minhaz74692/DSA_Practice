{
 "cells": [
  {
   "cell_type": "markdown",
   "id": "517d0ba0",
   "metadata": {},
   "source": [
    "# Binary Search Tree"
   ]
  },
  {
   "cell_type": "markdown",
   "id": "46da605e",
   "metadata": {},
   "source": [
    "# Binary Search Trees, Traversals and Balancing in Python\n",
    "\n",
    "### Part 2 of \"Data Structures and Algorithms in Python\"\n",
    "\n",
    "![](https://i.imgur.com/lVqP63n.png)\n",
    "\n",
    "\n",
    "\n",
    "\n",
    "\n",
    "[Data Structures and Algorithms in Python](https://jovian.ai/learn/data-structures-and-algorithms-in-python) is a beginner-friendly introduction to common data structures (linked lists, stacks, queues, graphs) and algorithms (search, sorting, recursion, dynamic programming) in Python, designed to help you prepare for coding interviews and assessments.\n",
    "\n",
    "\n",
    "Earn a verified certificate of accomplishment for this course by signing up here: http://pythondsa.com.\n",
    "\n",
    "Ask questions, get help & participate in discussions on the community forum: https://jovian.ai/forum/c/data-structures-and-algorithms-in-python/78"
   ]
  },
  {
   "cell_type": "markdown",
   "id": "fdcdb0a0",
   "metadata": {},
   "source": [
    "# Problem\n",
    "In this notebook, we'll focus on solving the following problem:\n",
    "\n",
    "QUESTION 1: As a senior backend engineer at Jovian, you are tasked with developing a fast in-memory data structure to manage profile information (username, name and email) for 100 million users. It should allow the following operations to be performed efficiently:\n",
    "\n",
    "1. Insert the profile information for a new user.\n",
    "2. Find the profile information of a user, given their username\n",
    "3. Update the profile information of a user, given their usrname\n",
    "4. List all the users of the platform, sorted by username\n",
    "5. You can assume that usernames are unique.\n",
    "\n",
    "Along the way, we will also solve several other questions related to binary trees and binary search trees that are often asked in coding interviews and assessments."
   ]
  },
  {
   "cell_type": "markdown",
   "id": "5a7c30b3",
   "metadata": {},
   "source": [
    "# OOP Basics in Python"
   ]
  },
  {
   "cell_type": "code",
   "execution_count": 80,
   "id": "362aea5e",
   "metadata": {},
   "outputs": [],
   "source": [
    "class User:\n",
    "    def __init__(self, username, name, email):\n",
    "        self.username = username\n",
    "        self.name = name\n",
    "        self.email = email\n",
    "    \n",
    "    def userInfoPrint(self, homeTown):\n",
    "        print(\"username: {} is {} with email id {} and from {}\".format(self.username, self.name, self.email, homeTown))\n",
    "        \n",
    "    def userPrint(self):\n",
    "        print(\"username:\", self.username, \"is\", self.name, \"with email: \", self.email )\n",
    "    \n",
    "    def __repr__(self):\n",
    "        return \"User(username='{}', name='{}', email='{}')\".format(self.username, self.name, self.email)\n",
    "    \n",
    "    def __str__(self):\n",
    "        return self.__repr__()"
   ]
  },
  {
   "cell_type": "code",
   "execution_count": 83,
   "id": "fda5f667",
   "metadata": {},
   "outputs": [],
   "source": [
    "user1 = User(\"minhaz\", \"Minhazul Islam\", \"minhaz74692@gmail.com\")"
   ]
  },
  {
   "cell_type": "code",
   "execution_count": 84,
   "id": "10ec26b4",
   "metadata": {},
   "outputs": [
    {
     "data": {
      "text/plain": [
       "User(username='minhaz', name='Minhazul Islam', email='minhaz74692@gmail.com')"
      ]
     },
     "execution_count": 84,
     "metadata": {},
     "output_type": "execute_result"
    }
   ],
   "source": [
    "user1"
   ]
  },
  {
   "cell_type": "code",
   "execution_count": 82,
   "id": "0523cca3",
   "metadata": {},
   "outputs": [
    {
     "name": "stdout",
     "output_type": "stream",
     "text": [
      "username: minhaz is Minhazul Islam with email:  minhaz74692@gmail.com\n"
     ]
    }
   ],
   "source": [
    "user1.userPrint()\n"
   ]
  },
  {
   "cell_type": "code",
   "execution_count": 71,
   "id": "2bb0f9ba",
   "metadata": {},
   "outputs": [
    {
     "name": "stdout",
     "output_type": "stream",
     "text": [
      "username: minhaz is Minhazul Islam with email id minhaz74692@gmail.com and from CTG\n"
     ]
    }
   ],
   "source": [
    "user1.userInfoPrint(\"CTG\")"
   ]
  },
  {
   "cell_type": "code",
   "execution_count": 72,
   "id": "6aa54dcd",
   "metadata": {},
   "outputs": [],
   "source": [
    "aakash = User('aakash', 'Aakash Rai', 'aakash@example.com')\n",
    "biraj = User('biraj', 'Biraj Das', 'biraj@example.com')\n",
    "hemanth = User('hemanth', 'Hemanth Jain', 'hemanth@example.com')\n",
    "jadhesh = User('jadhesh', 'Jadhesh Verma', 'jadhesh@example.com')\n",
    "siddhant = User('siddhant', 'Siddhant Sinha', 'siddhant@example.com')\n",
    "sonaksh = User('sonaksh', 'Sonaksh Kumar', 'sonaksh@example.com')\n",
    "vishal = User('vishal', 'Vishal Goel', 'vishal@example.com')"
   ]
  },
  {
   "cell_type": "code",
   "execution_count": 73,
   "id": "a4d15380",
   "metadata": {},
   "outputs": [],
   "source": [
    "users = [aakash, biraj, user1, hemanth, jadhesh, siddhant, sonaksh, vishal]"
   ]
  },
  {
   "cell_type": "markdown",
   "id": "a0e55ad1",
   "metadata": {},
   "source": [
    "# Insert, Find, Update, Delete  "
   ]
  },
  {
   "cell_type": "code",
   "execution_count": 74,
   "id": "730e40f7",
   "metadata": {},
   "outputs": [],
   "source": [
    "class UserDatabase:\n",
    "    def __init__(self):\n",
    "        self.users = users\n",
    "        \n",
    "    def insert(self, user):\n",
    "        pass\n",
    "    \n",
    "    def find(self, username):\n",
    "        pass\n",
    "    \n",
    "    def update(self, user):\n",
    "        pass\n",
    "        \n",
    "    def list_all(self):\n",
    "        pass"
   ]
  },
  {
   "cell_type": "code",
   "execution_count": 79,
   "id": "9d90dba5",
   "metadata": {},
   "outputs": [
    {
     "name": "stdout",
     "output_type": "stream",
     "text": [
      "username: aakash is Aakash Rai with email:  aakash@example.com\n"
     ]
    }
   ],
   "source": [
    "users[0].userPrint()"
   ]
  },
  {
   "cell_type": "code",
   "execution_count": null,
   "id": "8c487298",
   "metadata": {},
   "outputs": [],
   "source": []
  }
 ],
 "metadata": {
  "kernelspec": {
   "display_name": "Python 3 (ipykernel)",
   "language": "python",
   "name": "python3"
  },
  "language_info": {
   "codemirror_mode": {
    "name": "ipython",
    "version": 3
   },
   "file_extension": ".py",
   "mimetype": "text/x-python",
   "name": "python",
   "nbconvert_exporter": "python",
   "pygments_lexer": "ipython3",
   "version": "3.11.5"
  }
 },
 "nbformat": 4,
 "nbformat_minor": 5
}
