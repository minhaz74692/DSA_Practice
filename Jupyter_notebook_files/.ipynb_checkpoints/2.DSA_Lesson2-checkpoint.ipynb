{
 "cells": [
  {
   "cell_type": "code",
   "execution_count": 1,
   "id": "a5f2d292",
   "metadata": {},
   "outputs": [],
   "source": [
    "!pip install jovian --upgrade --quiet"
   ]
  },
  {
   "cell_type": "code",
   "execution_count": 2,
   "id": "475d80b3",
   "metadata": {},
   "outputs": [],
   "source": [
    "import jovian"
   ]
  },
  {
   "cell_type": "code",
   "execution_count": 4,
   "id": "6605a07e",
   "metadata": {},
   "outputs": [],
   "source": [
    "project='python-binary-search-assignment'"
   ]
  },
  {
   "cell_type": "code",
   "execution_count": 5,
   "id": "932d3098",
   "metadata": {},
   "outputs": [
    {
     "data": {
      "application/javascript": [
       "window.require && require([\"base/js/namespace\"],function(Jupyter){Jupyter.notebook.save_checkpoint()})"
      ],
      "text/plain": [
       "<IPython.core.display.Javascript object>"
      ]
     },
     "metadata": {},
     "output_type": "display_data"
    },
    {
     "name": "stdout",
     "output_type": "stream",
     "text": [
      "[jovian] Please enter your API key ( from https://jovian.com/ ):\u001b[0m\n",
      "API KEY: ········\n",
      "[jovian] Updating notebook \"minhaz74692/python-binary-search-assignment\" on https://jovian.com/\u001b[0m\n",
      "[jovian] Committed successfully! https://jovian.com/minhaz74692/python-binary-search-assignment\u001b[0m\n"
     ]
    },
    {
     "data": {
      "text/plain": [
       "'https://jovian.com/minhaz74692/python-binary-search-assignment'"
      ]
     },
     "execution_count": 5,
     "metadata": {},
     "output_type": "execute_result"
    }
   ],
   "source": [
    "jovian.commit(project=project, privacy='secret', environment=None)"
   ]
  },
  {
   "cell_type": "markdown",
   "id": "4e9a36a8",
   "metadata": {},
   "source": [
    "# Problem - Rotated Lists\n",
    "We'll solve the following problem step-by-step:\n",
    "\n",
    "You are given list of numbers, obtained by rotating a sorted list an unknown number of times. Write a function to determine the minimum number of times the original sorted list was rotated to obtain the given list. Your function should have the worst-case complexity of O(log N), where N is the length of the list. You can assume that all the numbers in the list are unique.\n",
    "\n",
    "Example: The list [5, 6, 9, 0, 2, 3, 4] was obtained by rotating the sorted list [0, 2, 3, 4, 5, 6, 9] 3 times.\n",
    "\n",
    "We define \"rotating a list\" as removing the last element of the list and adding it before the first element. E.g. rotating the list [3, 2, 4, 1] produces [1, 3, 2, 4].\n",
    "\n",
    "\"Sorted list\" refers to a list where the elements are arranged in the increasing order e.g. [1, 3, 5, 7]."
   ]
  },
  {
   "cell_type": "code",
   "execution_count": 6,
   "id": "12ec5543",
   "metadata": {},
   "outputs": [],
   "source": [
    "practiceList = [1,2,3,4,5]\n",
    "rotate = 2\n"
   ]
  },
  {
   "cell_type": "code",
   "execution_count": 14,
   "id": "75567c1a",
   "metadata": {},
   "outputs": [],
   "source": [
    "def split_list_by_last_k(lst, k):\n",
    "    if k >= len(lst):\n",
    "        return [], lst\n",
    "    else:\n",
    "        return lst[-k:] + lst[:-k]"
   ]
  },
  {
   "cell_type": "code",
   "execution_count": 17,
   "id": "594abb11",
   "metadata": {},
   "outputs": [],
   "source": [
    "rotetedList = split_list_by_last_k(practiceList, rotate)"
   ]
  },
  {
   "cell_type": "code",
   "execution_count": 18,
   "id": "7d430057",
   "metadata": {},
   "outputs": [
    {
     "data": {
      "text/plain": [
       "[4, 5, 1, 2, 3]"
      ]
     },
     "execution_count": 18,
     "metadata": {},
     "output_type": "execute_result"
    }
   ],
   "source": [
    "rotetedList"
   ]
  },
  {
   "cell_type": "code",
   "execution_count": null,
   "id": "73e53d74",
   "metadata": {},
   "outputs": [
    {
     "data": {
      "application/javascript": [
       "window.require && require([\"base/js/namespace\"],function(Jupyter){Jupyter.notebook.save_checkpoint()})"
      ],
      "text/plain": [
       "<IPython.core.display.Javascript object>"
      ]
     },
     "metadata": {},
     "output_type": "display_data"
    }
   ],
   "source": [
    "jovian.commit(project=project, privacy='secret', environment=None)"
   ]
  },
  {
   "cell_type": "code",
   "execution_count": null,
   "id": "11a96f55",
   "metadata": {},
   "outputs": [],
   "source": []
  }
 ],
 "metadata": {
  "kernelspec": {
   "display_name": "Python 3 (ipykernel)",
   "language": "python",
   "name": "python3"
  },
  "language_info": {
   "codemirror_mode": {
    "name": "ipython",
    "version": 3
   },
   "file_extension": ".py",
   "mimetype": "text/x-python",
   "name": "python",
   "nbconvert_exporter": "python",
   "pygments_lexer": "ipython3",
   "version": "3.11.5"
  }
 },
 "nbformat": 4,
 "nbformat_minor": 5
}
