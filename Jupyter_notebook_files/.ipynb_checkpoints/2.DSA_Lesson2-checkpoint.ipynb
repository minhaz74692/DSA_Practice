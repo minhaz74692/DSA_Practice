{
 "cells": [
  {
   "cell_type": "code",
   "execution_count": 1,
   "id": "a5f2d292",
   "metadata": {},
   "outputs": [
    {
     "name": "stdout",
     "output_type": "stream",
     "text": [
      "Note: you may need to restart the kernel to use updated packages.\n"
     ]
    }
   ],
   "source": [
    "%pip install jovian --upgrade --quiet"
   ]
  },
  {
   "cell_type": "code",
   "execution_count": 2,
   "id": "8688065d",
   "metadata": {},
   "outputs": [],
   "source": [
    "import jovian"
   ]
  },
  {
   "cell_type": "code",
   "execution_count": 3,
   "id": "3d8e2274",
   "metadata": {},
   "outputs": [],
   "source": [
    "project='python-binary-search-assignment'"
   ]
  },
  {
   "cell_type": "code",
   "execution_count": 4,
   "id": "658e6939",
   "metadata": {},
   "outputs": [],
   "source": [
    "# jovian.commit(project=project, privacy='secret', environment=None)"
   ]
  },
  {
   "cell_type": "markdown",
   "id": "84d30c29",
   "metadata": {},
   "source": [
    "# Problem - Rotated Lists\n",
    "We'll solve the following problem step-by-step:\n",
    "\n",
    "You are given list of numbers, obtained by rotating a sorted list an unknown number of times. Write a function to determine the minimum number of times the original sorted list was rotated to obtain the given list. Your function should have the worst-case complexity of O(log N), where N is the length of the list. You can assume that all the numbers in the list are unique.\n",
    "\n",
    "Example: The list [5, 6, 9, 0, 2, 3, 4] was obtained by rotating the sorted list [0, 2, 3, 4, 5, 6, 9] 3 times.\n",
    "\n",
    "We define \"rotating a list\" as removing the last element of the list and adding it before the first element. E.g. rotating the list [3, 2, 4, 1] produces [1, 3, 2, 4].\n",
    "\n",
    "\"Sorted list\" refers to a list where the elements are arranged in the increasing order e.g. [1, 3, 5, 7]."
   ]
  },
  {
   "cell_type": "code",
   "execution_count": 5,
   "id": "27f87d9c",
   "metadata": {},
   "outputs": [],
   "source": [
    "practiceList = [1,2,3,4,5]\n",
    "rotate = 2\n"
   ]
  },
  {
   "cell_type": "code",
   "execution_count": 6,
   "id": "a48837a9",
   "metadata": {},
   "outputs": [],
   "source": [
    "def split_list_by_last_k(lst, k):\n",
    "    if k >= len(lst):\n",
    "        return [], lst\n",
    "    else:\n",
    "        return lst[-k:] + lst[:-k]"
   ]
  },
  {
   "cell_type": "code",
   "execution_count": 7,
   "id": "ae995c48",
   "metadata": {},
   "outputs": [],
   "source": [
    "rotetedList = split_list_by_last_k(practiceList, rotate)"
   ]
  },
  {
   "cell_type": "code",
   "execution_count": 8,
   "id": "71b462fc",
   "metadata": {},
   "outputs": [
    {
     "data": {
      "text/plain": [
       "[4, 5, 1, 2, 3]"
      ]
     },
     "execution_count": 8,
     "metadata": {},
     "output_type": "execute_result"
    }
   ],
   "source": [
    "rotetedList"
   ]
  },
  {
   "cell_type": "code",
   "execution_count": 9,
   "id": "722adb65",
   "metadata": {
    "scrolled": true
   },
   "outputs": [
    {
     "data": {
      "application/javascript": [
       "window.require && require([\"base/js/namespace\"],function(Jupyter){Jupyter.notebook.save_checkpoint()})"
      ],
      "text/plain": [
       "<IPython.core.display.Javascript object>"
      ]
     },
     "metadata": {},
     "output_type": "display_data"
    },
    {
     "name": "stdout",
     "output_type": "stream",
     "text": [
      "[jovian] Updating notebook \"minhaz74692/python-binary-search-assignment\" on https://jovian.com/\u001b[0m\n",
      "[jovian] Committed successfully! https://jovian.com/minhaz74692/python-binary-search-assignment\u001b[0m\n"
     ]
    },
    {
     "data": {
      "text/plain": [
       "'https://jovian.com/minhaz74692/python-binary-search-assignment'"
      ]
     },
     "execution_count": 9,
     "metadata": {},
     "output_type": "execute_result"
    }
   ],
   "source": [
    "jovian.commit(project=project, privacy='secret', environment=None)"
   ]
  },
  {
   "cell_type": "code",
   "execution_count": 10,
   "id": "eb3dd8e7",
   "metadata": {},
   "outputs": [],
   "source": [
    "listA = [1,2,3,4,5,6]"
   ]
  },
  {
   "cell_type": "code",
   "execution_count": 11,
   "id": "f629f4bd",
   "metadata": {},
   "outputs": [
    {
     "data": {
      "text/plain": [
       "[3, 4]"
      ]
     },
     "execution_count": 11,
     "metadata": {},
     "output_type": "execute_result"
    }
   ],
   "source": [
    "listA[-4:-2]"
   ]
  },
  {
   "cell_type": "code",
   "execution_count": 12,
   "id": "00ff575d",
   "metadata": {},
   "outputs": [
    {
     "data": {
      "text/plain": [
       "[1, 2]"
      ]
     },
     "execution_count": 12,
     "metadata": {},
     "output_type": "execute_result"
    }
   ],
   "source": [
    "listA[:2]"
   ]
  },
  {
   "cell_type": "markdown",
   "id": "d227f1e8",
   "metadata": {},
   "source": [
    "# Find Rotate Count By Linear Search"
   ]
  },
  {
   "cell_type": "code",
   "execution_count": 13,
   "id": "89d36dc8",
   "metadata": {},
   "outputs": [],
   "source": [
    "def linearRotatedListCount(list):\n",
    "    position = 0\n",
    "    \n",
    "    while position < len(list):\n",
    "        \n",
    "        if position > 0 and list[position] < list[position - 1]:\n",
    "            return position\n",
    "        \n",
    "        position += 1\n",
    "        \n",
    "    return 0\n",
    "       "
   ]
  },
  {
   "cell_type": "code",
   "execution_count": 14,
   "id": "691613b2",
   "metadata": {},
   "outputs": [
    {
     "data": {
      "text/plain": [
       "3"
      ]
     },
     "execution_count": 14,
     "metadata": {},
     "output_type": "execute_result"
    }
   ],
   "source": [
    "linearRotatedListCount([ 5, 6,7, 0, 2, 3, 4])"
   ]
  },
  {
   "cell_type": "code",
   "execution_count": 33,
   "id": "d11554d2",
   "metadata": {},
   "outputs": [
    {
     "data": {
      "text/plain": [
       "0"
      ]
     },
     "execution_count": 33,
     "metadata": {},
     "output_type": "execute_result"
    }
   ],
   "source": [
    "linearRotatedListCount([ 0, 2, 3, 4, 5,6])"
   ]
  },
  {
   "cell_type": "code",
   "execution_count": 19,
   "id": "91e963d7",
   "metadata": {},
   "outputs": [],
   "source": [
    "from jovian.pythondsa import evaluate_test_case"
   ]
  },
  {
   "cell_type": "code",
   "execution_count": 28,
   "id": "f58a12f3",
   "metadata": {},
   "outputs": [],
   "source": [
    "test = {\n",
    "    \"input\":{\"nums\": [ 5, 6,7, 0, 2, 3, 4]},\n",
    "    \"output\": 3\n",
    "}"
   ]
  },
  {
   "cell_type": "code",
   "execution_count": 30,
   "id": "e23a3fc2",
   "metadata": {},
   "outputs": [],
   "source": [
    "# linear_rotate_search = evaluate_test_case(linearRotatedListCount, test)"
   ]
  },
  {
   "cell_type": "markdown",
   "id": "c5bf0af1",
   "metadata": {},
   "source": [
    "# Find Rotate Count By Binary Search"
   ]
  },
  {
   "cell_type": "code",
   "execution_count": 15,
   "id": "7e20a708",
   "metadata": {},
   "outputs": [],
   "source": [
    "def binaryRotatedListCount(list):\n",
    "    lo = 0\n",
    "    hi = len(list) -1 \n",
    "    \n",
    "#     while lo < hi:\n",
    "#         if mid_number < list[lo]:\n",
    "#             hi = mid -1\n",
    "# #         elif mid_number > list[lo]: \n",
    "#         else:\n",
    "#             if mid_number > list[mid + 1]:\n",
    "#                 return mid + 1\n",
    "#             else:\n",
    "#                 lo = mid +1\n",
    "# #         return mid_number\n",
    "    while lo <= hi:\n",
    "        mid = lo + hi // 2\n",
    "        mid_number = list[mid]\n",
    "        if mid_number > list[lo]:\n",
    "            print(mid_number, \"greater\")\n",
    "            lo = mid\n",
    "        elif mid_number < list[lo]:\n",
    "            hi = mid -1\n",
    "            print(mid_number, 'less')\n",
    "        else:\n",
    "            print(mid_number, \"last\")\n",
    "            return 3\n",
    "        \n",
    "    \n",
    "    return 0\n",
    "\n",
    "# [3,4,5,6,7,1,2]"
   ]
  },
  {
   "cell_type": "code",
   "execution_count": 16,
   "id": "97ebcd72",
   "metadata": {},
   "outputs": [
    {
     "data": {
      "text/plain": [
       "[0, 2, 3, 4, 5, 6, 7, 8, 9, 10, 12, 14, 15]"
      ]
     },
     "execution_count": 16,
     "metadata": {},
     "output_type": "execute_result"
    }
   ],
   "source": [
    "sorted([ 10,12,14,15, 0, 2, 3, 4,5, 6, 7, 8, 9])"
   ]
  },
  {
   "cell_type": "code",
   "execution_count": 17,
   "id": "a1acfe95",
   "metadata": {},
   "outputs": [
    {
     "data": {
      "text/plain": [
       "[0, 2, 3, 4, 5, 6, 7, 8, 9, 10, 12, 14, 15]"
      ]
     },
     "execution_count": 17,
     "metadata": {},
     "output_type": "execute_result"
    }
   ],
   "source": [
    "sorted([ 10,12,14,15, 0, 2, 3, 4,5, 6, 7, 8, 9])"
   ]
  },
  {
   "cell_type": "code",
   "execution_count": 18,
   "id": "adb443fd",
   "metadata": {},
   "outputs": [
    {
     "name": "stdout",
     "output_type": "stream",
     "text": [
      "sjdfk\n"
     ]
    }
   ],
   "source": [
    "print(\"sjdfk\")"
   ]
  },
  {
   "cell_type": "markdown",
   "id": "d93e815d",
   "metadata": {},
   "source": [
    "# 6. Apply the right technique to overcome the inefficiency. Repeat steps 3 to 6.\n",
    "As you might have guessed, we can apply Binary Search to solve this problem. The key question we need to answer in binary search is: Given the middle element, how to decide if it is the answer (smallest number), or whether the answer lies to the left or right of it.\n",
    "\n",
    "If the middle element is smaller than its predecessor, then it is the answer. However, if it isn't, this check is not sufficient to determine whether the answer lies to the left or the right of it. Consider the following examples.\n",
    "\n",
    "[7, 8, 1, 3, 4, 5, 6] (answer lies to the left of the middle element)\n",
    "\n",
    "[1, 2, 3, 4, 5, -1, 0] (answer lies to the right of the middle element)\n",
    "\n",
    "Here's a check that will help us determine if the answer lies to the left or the right: If the middle element of the list is smaller than the last element of the range, then the answer lies to the left of it. Otherwise, the answer lies to the right.\n",
    "\n",
    "Do you see why this strategy works?"
   ]
  },
  {
   "cell_type": "code",
   "execution_count": null,
   "id": "dae0baca",
   "metadata": {},
   "outputs": [],
   "source": [
    "def binary_rotate_element_count(nums):\n",
    "    lo = 0\n",
    "    hi = len(nums) - 1\n",
    "    \n",
    "    while lo < hi:\n",
    "        mid = lo + hi // 2\n",
    "    "
   ]
  }
 ],
 "metadata": {
  "kernelspec": {
   "display_name": "Python 3 (ipykernel)",
   "language": "python",
   "name": "python3"
  },
  "language_info": {
   "codemirror_mode": {
    "name": "ipython",
    "version": 3
   },
   "file_extension": ".py",
   "mimetype": "text/x-python",
   "name": "python",
   "nbconvert_exporter": "python",
   "pygments_lexer": "ipython3",
   "version": "3.11.5"
  }
 },
 "nbformat": 4,
 "nbformat_minor": 5
}
