{
 "cells": [
  {
   "cell_type": "code",
   "execution_count": 53,
   "id": "a5f2d292",
   "metadata": {},
   "outputs": [
    {
     "name": "stdout",
     "output_type": "stream",
     "text": [
      "Note: you may need to restart the kernel to use updated packages.\n"
     ]
    }
   ],
   "source": [
    "%pip install jovian --upgrade --quiet"
   ]
  },
  {
   "cell_type": "code",
   "execution_count": 54,
   "id": "8688065d",
   "metadata": {},
   "outputs": [],
   "source": [
    "import jovian"
   ]
  },
  {
   "cell_type": "code",
   "execution_count": 34,
   "id": "3d8e2274",
   "metadata": {},
   "outputs": [],
   "source": [
    "project='python-binary-search-assignment'"
   ]
  },
  {
   "cell_type": "code",
   "execution_count": 52,
   "id": "658e6939",
   "metadata": {},
   "outputs": [],
   "source": [
    "# jovian.commit(project=project, privacy='secret', environment=None)"
   ]
  },
  {
   "cell_type": "markdown",
   "id": "84d30c29",
   "metadata": {},
   "source": [
    "# Problem - Rotated Lists\n",
    "We'll solve the following problem step-by-step:\n",
    "\n",
    "You are given list of numbers, obtained by rotating a sorted list an unknown number of times. Write a function to determine the minimum number of times the original sorted list was rotated to obtain the given list. Your function should have the worst-case complexity of O(log N), where N is the length of the list. You can assume that all the numbers in the list are unique.\n",
    "\n",
    "Example: The list [5, 6, 9, 0, 2, 3, 4] was obtained by rotating the sorted list [0, 2, 3, 4, 5, 6, 9] 3 times.\n",
    "\n",
    "We define \"rotating a list\" as removing the last element of the list and adding it before the first element. E.g. rotating the list [3, 2, 4, 1] produces [1, 3, 2, 4].\n",
    "\n",
    "\"Sorted list\" refers to a list where the elements are arranged in the increasing order e.g. [1, 3, 5, 7]."
   ]
  },
  {
   "cell_type": "code",
   "execution_count": 36,
   "id": "27f87d9c",
   "metadata": {},
   "outputs": [],
   "source": [
    "practiceList = [1,2,3,4,5]\n",
    "rotate = 2\n"
   ]
  },
  {
   "cell_type": "code",
   "execution_count": 37,
   "id": "a48837a9",
   "metadata": {},
   "outputs": [],
   "source": [
    "def split_list_by_last_k(lst, k):\n",
    "    if k >= len(lst):\n",
    "        return [], lst\n",
    "    else:\n",
    "        return lst[-k:] + lst[:-k]"
   ]
  },
  {
   "cell_type": "code",
   "execution_count": 38,
   "id": "ae995c48",
   "metadata": {},
   "outputs": [],
   "source": [
    "rotetedList = split_list_by_last_k(practiceList, rotate)"
   ]
  },
  {
   "cell_type": "code",
   "execution_count": 39,
   "id": "71b462fc",
   "metadata": {},
   "outputs": [
    {
     "data": {
      "text/plain": [
       "[4, 5, 1, 2, 3]"
      ]
     },
     "execution_count": 39,
     "metadata": {},
     "output_type": "execute_result"
    }
   ],
   "source": [
    "rotetedList"
   ]
  },
  {
   "cell_type": "code",
   "execution_count": 40,
   "id": "722adb65",
   "metadata": {
    "scrolled": true
   },
   "outputs": [
    {
     "data": {
      "application/javascript": "window.require && require([\"base/js/namespace\"],function(Jupyter){Jupyter.notebook.save_checkpoint()})",
      "text/plain": [
       "<IPython.core.display.Javascript object>"
      ]
     },
     "metadata": {},
     "output_type": "display_data"
    },
    {
     "data": {
      "application/javascript": "if (window.IPython && IPython.notebook.kernel) IPython.notebook.kernel.execute('jovian.utils.jupyter.get_notebook_name_saved = lambda: \"' + IPython.notebook.notebook_name + '\"')",
      "text/plain": [
       "<IPython.core.display.Javascript object>"
      ]
     },
     "metadata": {},
     "output_type": "display_data"
    },
    {
     "name": "stderr",
     "output_type": "stream",
     "text": [
      "\u001b[31m[jovian] Error: Failed to read the Jupyter notebook. Please re-run this cell to try again. If the issue persists, provide the \"filename\" argument to \"jovian.commit\" e.g. \"jovian.commit(filename='my-notebook.ipynb')\"\u001b[0m\n"
     ]
    }
   ],
   "source": [
    "jovian.commit(project=project, privacy='secret', environment=None)"
   ]
  },
  {
   "cell_type": "code",
   "execution_count": 41,
   "id": "eb3dd8e7",
   "metadata": {},
   "outputs": [],
   "source": [
    "listA = [1,2,3,4,5,6]"
   ]
  },
  {
   "cell_type": "code",
   "execution_count": 42,
   "id": "f629f4bd",
   "metadata": {},
   "outputs": [
    {
     "data": {
      "text/plain": [
       "[3, 4]"
      ]
     },
     "execution_count": 42,
     "metadata": {},
     "output_type": "execute_result"
    }
   ],
   "source": [
    "listA[-4:-2]"
   ]
  },
  {
   "cell_type": "code",
   "execution_count": 43,
   "id": "00ff575d",
   "metadata": {},
   "outputs": [
    {
     "data": {
      "text/plain": [
       "[1, 2]"
      ]
     },
     "execution_count": 43,
     "metadata": {},
     "output_type": "execute_result"
    }
   ],
   "source": [
    "listA[:2]"
   ]
  },
  {
   "cell_type": "markdown",
   "id": "d227f1e8",
   "metadata": {},
   "source": [
    "# Find Rotate Count By Linear Search"
   ]
  },
  {
   "cell_type": "code",
   "execution_count": 44,
   "id": "89d36dc8",
   "metadata": {},
   "outputs": [],
   "source": [
    "def linearRotatedListCount(list):\n",
    "    count = 0\n",
    "    value = list[count]\n",
    "    while count < len(list) -1:\n",
    "        if list[count+1] < value:\n",
    "            return count +1\n",
    "        else: \n",
    "            value = list[count+1]\n",
    "            count += 1\n",
    "        \n",
    "    return 0\n",
    "       "
   ]
  },
  {
   "cell_type": "code",
   "execution_count": 45,
   "id": "691613b2",
   "metadata": {},
   "outputs": [
    {
     "data": {
      "text/plain": [
       "3"
      ]
     },
     "execution_count": 45,
     "metadata": {},
     "output_type": "execute_result"
    }
   ],
   "source": [
    "linearRotatedListCount([ 5, 6,7, 0, 2, 3, 4])"
   ]
  },
  {
   "cell_type": "markdown",
   "id": "c5bf0af1",
   "metadata": {},
   "source": [
    "# Find Rotate Count By Binary Search"
   ]
  },
  {
   "cell_type": "code",
   "execution_count": 46,
   "id": "7e20a708",
   "metadata": {},
   "outputs": [],
   "source": [
    "def binaryRotatedListCount(list):\n",
    "    lo = 0\n",
    "    hi = len(list) -1 \n",
    "    \n",
    "#     while lo < hi:\n",
    "#         if mid_number < list[lo]:\n",
    "#             hi = mid -1\n",
    "# #         elif mid_number > list[lo]: \n",
    "#         else:\n",
    "#             if mid_number > list[mid + 1]:\n",
    "#                 return mid + 1\n",
    "#             else:\n",
    "#                 lo = mid +1\n",
    "# #         return mid_number\n",
    "    while lo <= hi:\n",
    "        mid = lo + hi // 2\n",
    "        mid_number = list[mid]\n",
    "        if mid_number > list[lo]:\n",
    "            print(mid_number, \"greater\")\n",
    "            lo = mid\n",
    "        elif mid_number < list[lo]:\n",
    "            hi = mid -1\n",
    "            print(mid_number, 'less')\n",
    "        else:\n",
    "            print(mid_number, \"last\")\n",
    "            return 3\n",
    "        \n",
    "    \n",
    "    return 0\n",
    "\n",
    "# [3,4,5,6,7,1,2]"
   ]
  },
  {
   "cell_type": "code",
   "execution_count": null,
   "id": "97ebcd72",
   "metadata": {},
   "outputs": [],
   "source": [
    "sorted([ 10,12,14,15, 0, 2, 3, 4,5, 6, 7, 8, 9])"
   ]
  },
  {
   "cell_type": "code",
   "execution_count": 47,
   "id": "a1acfe95",
   "metadata": {},
   "outputs": [
    {
     "data": {
      "text/plain": [
       "[0, 2, 3, 4, 5, 6, 7, 8, 9, 10, 12, 14, 15]"
      ]
     },
     "execution_count": 47,
     "metadata": {},
     "output_type": "execute_result"
    }
   ],
   "source": [
    "sorted([ 10,12,14,15, 0, 2, 3, 4,5, 6, 7, 8, 9])"
   ]
  },
  {
   "cell_type": "code",
   "execution_count": 1,
   "id": "adb443fd",
   "metadata": {},
   "outputs": [
    {
     "name": "stdout",
     "output_type": "stream",
     "text": [
      "sjdfk\n"
     ]
    }
   ],
   "source": [
    "print(\"sjdfk\")"
   ]
  },
  {
   "cell_type": "code",
   "execution_count": null,
   "id": "ad5bd71e",
   "metadata": {},
   "outputs": [],
   "source": []
  }
 ],
 "metadata": {
  "kernelspec": {
   "display_name": "Python 3 (ipykernel)",
   "language": "python",
   "name": "python3"
  },
  "language_info": {
   "codemirror_mode": {
    "name": "ipython",
    "version": 3
   },
   "file_extension": ".py",
   "mimetype": "text/x-python",
   "name": "python",
   "nbconvert_exporter": "python",
   "pygments_lexer": "ipython3",
   "version": "3.11.5"
  }
 },
 "nbformat": 4,
 "nbformat_minor": 5
}
