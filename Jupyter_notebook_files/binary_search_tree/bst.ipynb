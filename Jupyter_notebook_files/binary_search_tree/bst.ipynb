{
 "cells": [
  {
   "cell_type": "markdown",
   "metadata": {},
   "source": [
    "# Binary Search Trees, Traversals and Balancing in Python\n",
    "\n",
    "### Part 2 of \"Data Structures and Algorithms in Python\"\n",
    "\n",
    "![](https://i.imgur.com/lVqP63n.png)\n",
    "\n",
    "\n",
    "\n",
    "\n",
    "\n",
    "[Data Structures and Algorithms in Python](https://jovian.ai/learn/data-structures-and-algorithms-in-python) is a beginner-friendly introduction to common data structures (linked lists, stacks, queues, graphs) and algorithms (search, sorting, recursion, dynamic programming) in Python, designed to help you prepare for coding interviews and assessments.\n",
    "\n",
    "\n",
    "Earn a verified certificate of accomplishment for this course by signing up here: http://pythondsa.com.\n",
    "\n",
    "Ask questions, get help & participate in discussions on the community forum: https://jovian.ai/forum/c/data-structures-and-algorithms-in-python/78"
   ]
  },
  {
   "cell_type": "markdown",
   "metadata": {},
   "source": [
    "### Prerequisites\n",
    "\n",
    "This course assumes very little background in programming and mathematics, and you can learn the required concepts here:\n",
    "\n",
    "- Basic programming with Python ([variables](https://jovian.ai/aakashns/first-steps-with-python), [data types](https://jovian.ai/aakashns/python-variables-and-data-types), [loops](https://jovian.ai/aakashns/python-branching-and-loops), [functions](https://jovian.ai/aakashns/python-functions-and-scope) etc.)\n",
    "- Some high school mathematics ([polynomials](https://www.youtube.com/watch?v=Vm7H0VTlIco), [vectors, matrices](https://www.youtube.com/watch?v=0oGJTQCy4cQ&list=PLSQl0a2vh4HCs4zPpOEdF2GuydqS90Yb6) and [probability](https://www.youtube.com/watch?v=uzkc-qNVoOk))\n",
    "- No prior knowledge of data structures or algorithms is required\n",
    "\n",
    "We'll cover any additional mathematical and theoretical concepts we need as we go along."
   ]
  },
  {
   "cell_type": "markdown",
   "metadata": {},
   "source": [
    "## Balanced Binary Search Trees\n",
    "\n",
    "<img src=\"https://i.imgur.com/Mqef5b3.png\" width=\"520\">\n",
    "\n",
    "For our use case, we require the binary tree to have some additional properties:\n",
    "\n",
    "1. **Keys and Values**: Each node of the tree stores a key (a username) and a value (a `User` object). Only keys are shown in the picture above for brevity. A binary tree where nodes have both a key and a value is often referred to as a **map** or **treemap** (because it maps keys to values).\n",
    "2. **Binary Search Tree**: The *left subtree* of any node only contains nodes with keys that are lexicographically smaller than the node's key, and the *right subtree* of any node only contains nodes with keys that lexicographically larger than the node's key. A tree that satisfies this property is called a **binary search trees**, and it's easy to locate a specific key by traversing a single path down from the root note.\n",
    "3. **Balanced Tree**: The tree is **balanced** i.e. it does not skew too heavily to one side or the other. The left and right subtrees of any node shouldn't differ in height/depth by more than 1 level.\n",
    "\n",
    "\n",
    "### Height of a Binary Tree\n",
    "\n",
    "The number of levels in a tree is called its height. As you can tell from the picture above, each level of a tree contains twice as many nodes as the previous level. \n",
    "\n",
    "For a tree of height `k`, here's a list of the number of nodes at each level:\n",
    "\n",
    "Level 0: `1`\n",
    "\n",
    "Level 1: `2`\n",
    "\n",
    "Level 2: `4` i.e. `2^2`\n",
    "\n",
    "Level 3: `8` i.e. `2^3`\n",
    "\n",
    "...\n",
    "\n",
    "Level k-1: `2^(k-1)`\n",
    "\n",
    "If the total number of nodes in the tree is `N`, then it follows that\n",
    "\n",
    "```\n",
    "N = 1 + 2^1 + 2^2 + 2^3 + ... + 2^(k-1)\n",
    "```\n",
    "\n",
    "\n",
    "We can simplify this equation by adding `1` on each side:\n",
    "\n",
    "```\n",
    "N + 1 = 1 + 1 + 2^1 + 2^2 + 2^3 + ... + 2^(k-1) \n",
    "\n",
    "N + 1 = 2^1 + 2^1 + 2^2+ 2^3 + ... + 2^(k-1) \n",
    "\n",
    "N + 1 = = 2^2 + 2^2 + 2^3 + ... + 2^(k-1)\n",
    "\n",
    "N + 1 = = 2^3 + 2^3 + ... + 2^(k-1)\n",
    "\n",
    "...\n",
    "\n",
    "N + 1 = 2^(k-1) + 2^(k-1)\n",
    "\n",
    "N + 1 = 2^k\n",
    "\n",
    "k = log(N + 1) <= log(N) + 1 \n",
    "\n",
    "```\n",
    "\n",
    "Thus, to store `N` records we require a balanced binary search tree (BST) of height no larger than `log(N) + 1`. This is a very useful property, in combination with the fact that nodes are arranged in a way that makes it easy to find a specific key by following a single path down from the root. \n",
    "\n",
    "As we'll see soon, the `insert`, `find` and `update` operations in a balanced BST have time complexity `O(log N)` since they all involve traversing a single path down from the root of the tree."
   ]
  },
  {
   "cell_type": "markdown",
   "metadata": {},
   "source": [
    "## Binary Tree\n",
    "\n",
    "> **QUESTION 2**: Implement a binary tree using Python, and show its usage with some examples.\n",
    "\n",
    "To begin, we'll create simple binary tree (without any of the additional properties) containing numbers as keys within nodes. Here's an example:\n",
    "\n",
    "<img src=\"https://i.imgur.com/hg2ZG5h.png\" width=\"240\">\n",
    "\n",
    "Here's a simple class representing a node within a binary tree.\n"
   ]
  },
  {
   "cell_type": "code",
   "execution_count": 3,
   "metadata": {},
   "outputs": [],
   "source": [
    "class TreeNode:\n",
    "    def __init__(self , key):\n",
    "        self.key = key;\n",
    "        self.left = None\n",
    "        self.right = None"
   ]
  },
  {
   "cell_type": "markdown",
   "metadata": {},
   "source": []
  },
  {
   "cell_type": "code",
   "execution_count": 4,
   "metadata": {},
   "outputs": [],
   "source": [
    "node0 = TreeNode(3)\n",
    "node1 = TreeNode(4)\n",
    "node2 = TreeNode(5)"
   ]
  },
  {
   "cell_type": "code",
   "execution_count": 5,
   "metadata": {},
   "outputs": [
    {
     "data": {
      "text/plain": [
       "3"
      ]
     },
     "execution_count": 5,
     "metadata": {},
     "output_type": "execute_result"
    }
   ],
   "source": [
    "node0.key"
   ]
  },
  {
   "cell_type": "code",
   "execution_count": 6,
   "metadata": {},
   "outputs": [],
   "source": [
    "node0.left = node1\n",
    "node0.right = node2"
   ]
  },
  {
   "cell_type": "code",
   "execution_count": 7,
   "metadata": {},
   "outputs": [],
   "source": [
    "tree = node0\n"
   ]
  },
  {
   "cell_type": "code",
   "execution_count": 8,
   "metadata": {},
   "outputs": [
    {
     "data": {
      "text/plain": [
       "4"
      ]
     },
     "execution_count": 8,
     "metadata": {},
     "output_type": "execute_result"
    }
   ],
   "source": [
    "tree.left.key"
   ]
  },
  {
   "cell_type": "markdown",
   "metadata": {},
   "source": [
    "# Create Binnary tree by usinng tuple in python"
   ]
  },
  {
   "cell_type": "markdown",
   "metadata": {},
   "source": [
    "Going forward, we'll use the term \"tree\" to refer to the root node. The term \"node\" can refer to any node in a tree, not necessarily the root.\n",
    "\n",
    "**Exercise:** Create the following binary tree using the `TreeNode` class defined above.\n",
    "\n",
    "<img src=\"https://i.imgur.com/d7djJAf.png\" width=\"540\">"
   ]
  },
  {
   "cell_type": "code",
   "execution_count": 9,
   "metadata": {},
   "outputs": [],
   "source": [
    "tuple1 = (1,3,5)"
   ]
  },
  {
   "cell_type": "code",
   "execution_count": 10,
   "metadata": {},
   "outputs": [
    {
     "data": {
      "text/plain": [
       "3"
      ]
     },
     "execution_count": 10,
     "metadata": {},
     "output_type": "execute_result"
    }
   ],
   "source": [
    "len(tuple1)"
   ]
  },
  {
   "cell_type": "code",
   "execution_count": 11,
   "metadata": {},
   "outputs": [
    {
     "data": {
      "text/plain": [
       "tuple"
      ]
     },
     "execution_count": 11,
     "metadata": {},
     "output_type": "execute_result"
    }
   ],
   "source": [
    "type(tuple1)"
   ]
  },
  {
   "cell_type": "markdown",
   "metadata": {},
   "source": [
    "# Convert tuple into binary tree(By using a Recursive Function)"
   ]
  },
  {
   "cell_type": "code",
   "execution_count": 12,
   "metadata": {},
   "outputs": [],
   "source": [
    "\n",
    "def parse_tuple(data):  #Recursive Function\n",
    "    print(data)\n",
    "    if isinstance(data, tuple) and len(data) == 3:\n",
    "        node = TreeNode(data[1])\n",
    "        node.left = parse_tuple(data[0])\n",
    "        node.right = parse_tuple(data[2]) #here the Function Called inside the own function.. This is called Recursion. \n",
    "    \n",
    "    elif data == None:\n",
    "        node = None\n",
    "\n",
    "    else:\n",
    "        node = TreeNode(data)\n",
    "    \n",
    "    return node\n"
   ]
  },
  {
   "cell_type": "code",
   "execution_count": 13,
   "metadata": {},
   "outputs": [
    {
     "name": "stdout",
     "output_type": "stream",
     "text": [
      "(1, 3, 5)\n",
      "1\n",
      "5\n"
     ]
    }
   ],
   "source": [
    "n1 = parse_tuple(tuple1)"
   ]
  },
  {
   "cell_type": "code",
   "execution_count": 14,
   "metadata": {},
   "outputs": [
    {
     "data": {
      "text/plain": [
       "1"
      ]
     },
     "execution_count": 14,
     "metadata": {},
     "output_type": "execute_result"
    }
   ],
   "source": [
    "n1.left.key\n"
   ]
  },
  {
   "cell_type": "code",
   "execution_count": 15,
   "metadata": {},
   "outputs": [],
   "source": [
    "tree_tuple = ((1,3,None), 2, ((None, 3, 4), 5, (6, 7, 8)))"
   ]
  },
  {
   "cell_type": "code",
   "execution_count": 16,
   "metadata": {},
   "outputs": [
    {
     "name": "stdout",
     "output_type": "stream",
     "text": [
      "((1, 3, None), 2, ((None, 3, 4), 5, (6, 7, 8)))\n",
      "(1, 3, None)\n",
      "1\n",
      "None\n",
      "((None, 3, 4), 5, (6, 7, 8))\n",
      "(None, 3, 4)\n",
      "None\n",
      "4\n",
      "(6, 7, 8)\n",
      "6\n",
      "8\n"
     ]
    }
   ],
   "source": [
    "tree2 = parse_tuple(tree_tuple)"
   ]
  },
  {
   "cell_type": "code",
   "execution_count": 17,
   "metadata": {},
   "outputs": [
    {
     "data": {
      "text/plain": [
       "1"
      ]
     },
     "execution_count": 17,
     "metadata": {},
     "output_type": "execute_result"
    }
   ],
   "source": [
    "tree2.left.left.key"
   ]
  },
  {
   "cell_type": "markdown",
   "metadata": {},
   "source": [
    "We can now examine the tree to verify that it was constructed as expected.\n",
    "\n",
    "<img src=\"https://i.imgur.com/d7djJAf.png\" width=\"540\">"
   ]
  },
  {
   "cell_type": "code",
   "execution_count": 60,
   "metadata": {},
   "outputs": [
    {
     "data": {
      "text/plain": [
       "(4, 6, 8, None)"
      ]
     },
     "execution_count": 60,
     "metadata": {},
     "output_type": "execute_result"
    }
   ],
   "source": [
    "tree2.right.left.right.key, tree2.right.right.left.key, tree2.right.right.right.key, tree2.left.left.right"
   ]
  },
  {
   "cell_type": "code",
   "execution_count": 19,
   "metadata": {},
   "outputs": [
    {
     "data": {
      "text/plain": [
       "True"
      ]
     },
     "execution_count": 19,
     "metadata": {},
     "output_type": "execute_result"
    }
   ],
   "source": [
    "tree2.left.left\n",
    "isinstance(tree2.left, TreeNode)"
   ]
  },
  {
   "cell_type": "code",
   "execution_count": 65,
   "metadata": {},
   "outputs": [],
   "source": [
    "def tree_to_tuple(node):\n",
    "    \n",
    "    if node.left is None and node.right is None:\n",
    "        return node.key\n",
    "    \n",
    "    left = tree_to_tuple(node.left) if node.left else None\n",
    "    right = tree_to_tuple(node.right) if node.right else None\n",
    "    key = node.key\n",
    "\n",
    "    return (left, key, right)\n",
    "        \n",
    "        \n",
    "    \n",
    "    \n",
    "    "
   ]
  },
  {
   "cell_type": "code",
   "execution_count": 66,
   "metadata": {},
   "outputs": [
    {
     "data": {
      "text/plain": [
       "((1, 3, None), 2, ((None, 3, 4), 5, (6, 7, 8)))"
      ]
     },
     "execution_count": 66,
     "metadata": {},
     "output_type": "execute_result"
    }
   ],
   "source": [
    "tp1= tree_to_tuple(tree2)\n",
    "\n",
    "# Expected Result: ((1,3,None), 2, ((None, 3, 4), 5, (6, 7, 8))) \n",
    "tp1"
   ]
  },
  {
   "cell_type": "code",
   "execution_count": 22,
   "metadata": {},
   "outputs": [
    {
     "data": {
      "text/plain": [
       "__main__.TreeNode"
      ]
     },
     "execution_count": 22,
     "metadata": {},
     "output_type": "execute_result"
    }
   ],
   "source": [
    "type(tree2)"
   ]
  },
  {
   "cell_type": "code",
   "execution_count": null,
   "metadata": {},
   "outputs": [],
   "source": []
  }
 ],
 "metadata": {
  "kernelspec": {
   "display_name": "base",
   "language": "python",
   "name": "python3"
  },
  "language_info": {
   "codemirror_mode": {
    "name": "ipython",
    "version": 3
   },
   "file_extension": ".py",
   "mimetype": "text/x-python",
   "name": "python",
   "nbconvert_exporter": "python",
   "pygments_lexer": "ipython3",
   "version": "3.11.5"
  }
 },
 "nbformat": 4,
 "nbformat_minor": 2
}
